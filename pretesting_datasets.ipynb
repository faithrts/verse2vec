{
 "cells": [
  {
   "cell_type": "code",
   "execution_count": 14,
   "metadata": {},
   "outputs": [],
   "source": [
    "import pandas as pd"
   ]
  },
  {
   "cell_type": "markdown",
   "metadata": {},
   "source": [
    "# Gutenberg dataset"
   ]
  },
  {
   "cell_type": "markdown",
   "metadata": {},
   "source": [
    "### https://huggingface.co/datasets/google-research-datasets/poem_sentiment"
   ]
  },
  {
   "cell_type": "code",
   "execution_count": 16,
   "metadata": {},
   "outputs": [],
   "source": [
    "test = pd.read_parquet('data/gutenberg/test-00000-of-00001.parquet', engine='pyarrow').set_index('id')\n",
    "train = pd.read_parquet('data/gutenberg/train-00000-of-00001.parquet', engine='pyarrow').set_index('id')\n",
    "valid = pd.read_parquet('data/gutenberg/validation-00000-of-00001.parquet', engine='pyarrow').set_index('id')\n",
    "\n",
    "all_df = pd.concat([test, train, valid])"
   ]
  },
  {
   "cell_type": "code",
   "execution_count": 21,
   "metadata": {},
   "outputs": [],
   "source": [
    "all_df.rename(columns = {\"verse_text\": \"TEXT\"}, inplace = True)"
   ]
  },
  {
   "cell_type": "code",
   "execution_count": 22,
   "metadata": {},
   "outputs": [
    {
     "data": {
      "text/html": [
       "<div>\n",
       "<style scoped>\n",
       "    .dataframe tbody tr th:only-of-type {\n",
       "        vertical-align: middle;\n",
       "    }\n",
       "\n",
       "    .dataframe tbody tr th {\n",
       "        vertical-align: top;\n",
       "    }\n",
       "\n",
       "    .dataframe thead th {\n",
       "        text-align: right;\n",
       "    }\n",
       "</style>\n",
       "<table border=\"1\" class=\"dataframe\">\n",
       "  <thead>\n",
       "    <tr style=\"text-align: right;\">\n",
       "      <th></th>\n",
       "      <th>TEXT</th>\n",
       "      <th>label</th>\n",
       "    </tr>\n",
       "    <tr>\n",
       "      <th>id</th>\n",
       "      <th></th>\n",
       "      <th></th>\n",
       "    </tr>\n",
       "  </thead>\n",
       "  <tbody>\n",
       "    <tr>\n",
       "      <th>0</th>\n",
       "      <td>my canoe to make more steady,</td>\n",
       "      <td>2</td>\n",
       "    </tr>\n",
       "    <tr>\n",
       "      <th>1</th>\n",
       "      <td>and be glad in the summer morning when the kin...</td>\n",
       "      <td>1</td>\n",
       "    </tr>\n",
       "    <tr>\n",
       "      <th>2</th>\n",
       "      <td>and when they reached the strait symplegades</td>\n",
       "      <td>2</td>\n",
       "    </tr>\n",
       "    <tr>\n",
       "      <th>3</th>\n",
       "      <td>she sought for flowers</td>\n",
       "      <td>2</td>\n",
       "    </tr>\n",
       "    <tr>\n",
       "      <th>4</th>\n",
       "      <td>if they are hungry, paradise</td>\n",
       "      <td>2</td>\n",
       "    </tr>\n",
       "    <tr>\n",
       "      <th>...</th>\n",
       "      <td>...</td>\n",
       "      <td>...</td>\n",
       "    </tr>\n",
       "    <tr>\n",
       "      <th>100</th>\n",
       "      <td>said my companion, 'i will show you soon</td>\n",
       "      <td>2</td>\n",
       "    </tr>\n",
       "    <tr>\n",
       "      <th>101</th>\n",
       "      <td>but god said</td>\n",
       "      <td>2</td>\n",
       "    </tr>\n",
       "    <tr>\n",
       "      <th>102</th>\n",
       "      <td>but if thou do thy best</td>\n",
       "      <td>2</td>\n",
       "    </tr>\n",
       "    <tr>\n",
       "      <th>103</th>\n",
       "      <td>so generous to me. farewell, friend, since friend</td>\n",
       "      <td>1</td>\n",
       "    </tr>\n",
       "    <tr>\n",
       "      <th>104</th>\n",
       "      <td>let me all risk, and leave the deep heart dumb</td>\n",
       "      <td>0</td>\n",
       "    </tr>\n",
       "  </tbody>\n",
       "</table>\n",
       "<p>1101 rows × 2 columns</p>\n",
       "</div>"
      ],
      "text/plain": [
       "                                                  TEXT  label\n",
       "id                                                           \n",
       "0                        my canoe to make more steady,      2\n",
       "1    and be glad in the summer morning when the kin...      1\n",
       "2         and when they reached the strait symplegades      2\n",
       "3                               she sought for flowers      2\n",
       "4                         if they are hungry, paradise      2\n",
       "..                                                 ...    ...\n",
       "100           said my companion, 'i will show you soon      2\n",
       "101                                       but god said      2\n",
       "102                            but if thou do thy best      2\n",
       "103  so generous to me. farewell, friend, since friend      1\n",
       "104     let me all risk, and leave the deep heart dumb      0\n",
       "\n",
       "[1101 rows x 2 columns]"
      ]
     },
     "execution_count": 22,
     "metadata": {},
     "output_type": "execute_result"
    }
   ],
   "source": [
    "# label: The sentiment label. Here\n",
    "# 0 = negative\n",
    "# 1 = positive\n",
    "# 2 = no impact\n",
    "\n",
    "all_df"
   ]
  },
  {
   "cell_type": "markdown",
   "metadata": {},
   "source": [
    "# English PCD\n"
   ]
  },
  {
   "cell_type": "code",
   "execution_count": 19,
   "metadata": {},
   "outputs": [],
   "source": [
    "pcd_df = pd.read_csv('data/english_PCD/merged_data.csv', index_col = 0)"
   ]
  },
  {
   "cell_type": "code",
   "execution_count": 23,
   "metadata": {},
   "outputs": [],
   "source": [
    "pcd_df.rename(columns = {\"Verse\": \"TEXT\"}, inplace = True)"
   ]
  },
  {
   "cell_type": "code",
   "execution_count": 24,
   "metadata": {},
   "outputs": [
    {
     "data": {
      "text/html": [
       "<div>\n",
       "<style scoped>\n",
       "    .dataframe tbody tr th:only-of-type {\n",
       "        vertical-align: middle;\n",
       "    }\n",
       "\n",
       "    .dataframe tbody tr th {\n",
       "        vertical-align: top;\n",
       "    }\n",
       "\n",
       "    .dataframe thead th {\n",
       "        text-align: right;\n",
       "    }\n",
       "</style>\n",
       "<table border=\"1\" class=\"dataframe\">\n",
       "  <thead>\n",
       "    <tr style=\"text-align: right;\">\n",
       "      <th></th>\n",
       "      <th>TEXT</th>\n",
       "      <th>Meter</th>\n",
       "      <th>char_count</th>\n",
       "    </tr>\n",
       "  </thead>\n",
       "  <tbody>\n",
       "    <tr>\n",
       "      <th>0</th>\n",
       "      <td>ah why this boding start this sudden pain</td>\n",
       "      <td>iambic</td>\n",
       "      <td>6</td>\n",
       "    </tr>\n",
       "    <tr>\n",
       "      <th>1</th>\n",
       "      <td>that wings my pulse and shoots from vein to vein</td>\n",
       "      <td>iambic</td>\n",
       "      <td>6</td>\n",
       "    </tr>\n",
       "    <tr>\n",
       "      <th>2</th>\n",
       "      <td>what mean regardless of yon midnight bell</td>\n",
       "      <td>iambic</td>\n",
       "      <td>6</td>\n",
       "    </tr>\n",
       "    <tr>\n",
       "      <th>3</th>\n",
       "      <td>these earthborn visions saddening o'er my cell</td>\n",
       "      <td>iambic</td>\n",
       "      <td>6</td>\n",
       "    </tr>\n",
       "    <tr>\n",
       "      <th>4</th>\n",
       "      <td>what strange disorder prompts these thoughts t...</td>\n",
       "      <td>iambic</td>\n",
       "      <td>6</td>\n",
       "    </tr>\n",
       "    <tr>\n",
       "      <th>...</th>\n",
       "      <td>...</td>\n",
       "      <td>...</td>\n",
       "      <td>...</td>\n",
       "    </tr>\n",
       "    <tr>\n",
       "      <th>202272</th>\n",
       "      <td>were mellow music matchd with him</td>\n",
       "      <td>iambic</td>\n",
       "      <td>6</td>\n",
       "    </tr>\n",
       "    <tr>\n",
       "      <th>202274</th>\n",
       "      <td>o life as futile then as frail</td>\n",
       "      <td>iambic</td>\n",
       "      <td>6</td>\n",
       "    </tr>\n",
       "    <tr>\n",
       "      <th>202275</th>\n",
       "      <td>o for thy voice to soothe and bless</td>\n",
       "      <td>iambic</td>\n",
       "      <td>6</td>\n",
       "    </tr>\n",
       "    <tr>\n",
       "      <th>202276</th>\n",
       "      <td>what hope of answer or redress</td>\n",
       "      <td>iambic</td>\n",
       "      <td>6</td>\n",
       "    </tr>\n",
       "    <tr>\n",
       "      <th>202277</th>\n",
       "      <td>behind the veil behind the veil</td>\n",
       "      <td>iambic</td>\n",
       "      <td>6</td>\n",
       "    </tr>\n",
       "  </tbody>\n",
       "</table>\n",
       "<p>199002 rows × 3 columns</p>\n",
       "</div>"
      ],
      "text/plain": [
       "                                                     TEXT   Meter  char_count\n",
       "0               ah why this boding start this sudden pain  iambic           6\n",
       "1        that wings my pulse and shoots from vein to vein  iambic           6\n",
       "2               what mean regardless of yon midnight bell  iambic           6\n",
       "3          these earthborn visions saddening o'er my cell  iambic           6\n",
       "4       what strange disorder prompts these thoughts t...  iambic           6\n",
       "...                                                   ...     ...         ...\n",
       "202272                  were mellow music matchd with him  iambic           6\n",
       "202274                     o life as futile then as frail  iambic           6\n",
       "202275                o for thy voice to soothe and bless  iambic           6\n",
       "202276                     what hope of answer or redress  iambic           6\n",
       "202277                    behind the veil behind the veil  iambic           6\n",
       "\n",
       "[199002 rows x 3 columns]"
      ]
     },
     "execution_count": 24,
     "metadata": {},
     "output_type": "execute_result"
    }
   ],
   "source": [
    "pcd_df"
   ]
  },
  {
   "cell_type": "markdown",
   "metadata": {},
   "source": [
    "# Poki dataset"
   ]
  },
  {
   "cell_type": "markdown",
   "metadata": {},
   "source": [
    "### https://github.com/whipson/PoKi-Poems-by-Kids/tree/master"
   ]
  },
  {
   "cell_type": "code",
   "execution_count": 27,
   "metadata": {},
   "outputs": [],
   "source": [
    "poki_df = pd.read_csv('data/poki/poki.csv')"
   ]
  },
  {
   "cell_type": "code",
   "execution_count": 28,
   "metadata": {},
   "outputs": [],
   "source": [
    "poki_df.rename(columns = {'text': 'TEXT'}, inplace = True)"
   ]
  },
  {
   "cell_type": "markdown",
   "metadata": {},
   "source": [
    "# PERC Poem Emotion Recognition Corpus"
   ]
  },
  {
   "cell_type": "markdown",
   "metadata": {},
   "source": [
    "### https://data.mendeley.com/datasets/n9vbc8g9cx/1"
   ]
  },
  {
   "cell_type": "code",
   "execution_count": 29,
   "metadata": {},
   "outputs": [],
   "source": [
    "perc_df = pd.read_csv('data/perc/PERC_mendelly.csv')"
   ]
  },
  {
   "cell_type": "code",
   "execution_count": 33,
   "metadata": {},
   "outputs": [],
   "source": [
    "perc_df.rename(columns = {'Poem': 'TEXT'}, inplace = True)"
   ]
  },
  {
   "cell_type": "code",
   "execution_count": 34,
   "metadata": {},
   "outputs": [
    {
     "data": {
      "text/html": [
       "<div>\n",
       "<style scoped>\n",
       "    .dataframe tbody tr th:only-of-type {\n",
       "        vertical-align: middle;\n",
       "    }\n",
       "\n",
       "    .dataframe tbody tr th {\n",
       "        vertical-align: top;\n",
       "    }\n",
       "\n",
       "    .dataframe thead th {\n",
       "        text-align: right;\n",
       "    }\n",
       "</style>\n",
       "<table border=\"1\" class=\"dataframe\">\n",
       "  <thead>\n",
       "    <tr style=\"text-align: right;\">\n",
       "      <th></th>\n",
       "      <th>TEXT</th>\n",
       "      <th>Emotion</th>\n",
       "    </tr>\n",
       "  </thead>\n",
       "  <tbody>\n",
       "    <tr>\n",
       "      <th>0</th>\n",
       "      <td>A Tree\\nA tree beside the sandy river-beach \\n...</td>\n",
       "      <td>sad</td>\n",
       "    </tr>\n",
       "    <tr>\n",
       "      <th>1</th>\n",
       "      <td>Sri Krishna\\n\\nO immense Light and thou, O spi...</td>\n",
       "      <td>love</td>\n",
       "    </tr>\n",
       "    <tr>\n",
       "      <th>2</th>\n",
       "      <td>Who\\n\\n\\nIn the blue of the sky, in the green ...</td>\n",
       "      <td>peace</td>\n",
       "    </tr>\n",
       "    <tr>\n",
       "      <th>3</th>\n",
       "      <td>Revelation\\n\\n\\nSomeone leaping from the rocks...</td>\n",
       "      <td>sad</td>\n",
       "    </tr>\n",
       "    <tr>\n",
       "      <th>4</th>\n",
       "      <td>The Silver Call\\n\\n\\nThere is a godhead of unr...</td>\n",
       "      <td>joy</td>\n",
       "    </tr>\n",
       "    <tr>\n",
       "      <th>...</th>\n",
       "      <td>...</td>\n",
       "      <td>...</td>\n",
       "    </tr>\n",
       "    <tr>\n",
       "      <th>711</th>\n",
       "      <td>Daughter Taken By Mothers Lies\\n\\nHave you any...</td>\n",
       "      <td>sad</td>\n",
       "    </tr>\n",
       "    <tr>\n",
       "      <th>712</th>\n",
       "      <td>Involuntary Acceptance\\n\\nEven though\\nWe’re f...</td>\n",
       "      <td>sad</td>\n",
       "    </tr>\n",
       "    <tr>\n",
       "      <th>713</th>\n",
       "      <td>Victim Of Poverty\\n\\nPoverty stricken youth ju...</td>\n",
       "      <td>sad</td>\n",
       "    </tr>\n",
       "    <tr>\n",
       "      <th>714</th>\n",
       "      <td>Rain\\n\\nI sit and watch\\nas the rain falls \\nf...</td>\n",
       "      <td>sad</td>\n",
       "    </tr>\n",
       "    <tr>\n",
       "      <th>715</th>\n",
       "      <td>The Face Of Sadness\\n\\nIts happened again.\\n\\n...</td>\n",
       "      <td>sad</td>\n",
       "    </tr>\n",
       "  </tbody>\n",
       "</table>\n",
       "<p>716 rows × 2 columns</p>\n",
       "</div>"
      ],
      "text/plain": [
       "                                                  TEXT Emotion\n",
       "0    A Tree\\nA tree beside the sandy river-beach \\n...     sad\n",
       "1    Sri Krishna\\n\\nO immense Light and thou, O spi...    love\n",
       "2    Who\\n\\n\\nIn the blue of the sky, in the green ...   peace\n",
       "3    Revelation\\n\\n\\nSomeone leaping from the rocks...     sad\n",
       "4    The Silver Call\\n\\n\\nThere is a godhead of unr...     joy\n",
       "..                                                 ...     ...\n",
       "711  Daughter Taken By Mothers Lies\\n\\nHave you any...     sad\n",
       "712  Involuntary Acceptance\\n\\nEven though\\nWe’re f...     sad\n",
       "713  Victim Of Poverty\\n\\nPoverty stricken youth ju...     sad\n",
       "714  Rain\\n\\nI sit and watch\\nas the rain falls \\nf...     sad\n",
       "715  The Face Of Sadness\\n\\nIts happened again.\\n\\n...     sad\n",
       "\n",
       "[716 rows x 2 columns]"
      ]
     },
     "execution_count": 34,
     "metadata": {},
     "output_type": "execute_result"
    }
   ],
   "source": [
    "perc_df"
   ]
  },
  {
   "cell_type": "markdown",
   "metadata": {},
   "source": [
    "# Poetry Foundation"
   ]
  },
  {
   "cell_type": "markdown",
   "metadata": {},
   "source": [
    "### https://www.kaggle.com/datasets/tgdivy/poetry-foundation-poems"
   ]
  },
  {
   "cell_type": "code",
   "execution_count": 35,
   "metadata": {},
   "outputs": [],
   "source": [
    "poetry_foundation_df = pd.read_csv('data/poetry_foundation/PoetryFoundationData.csv', index_col = 0)"
   ]
  },
  {
   "cell_type": "code",
   "execution_count": 36,
   "metadata": {},
   "outputs": [],
   "source": [
    "poetry_foundation_df.rename(columns = {'Poem': 'TEXT'}, inplace = True)"
   ]
  },
  {
   "cell_type": "code",
   "execution_count": 37,
   "metadata": {},
   "outputs": [
    {
     "data": {
      "text/html": [
       "<div>\n",
       "<style scoped>\n",
       "    .dataframe tbody tr th:only-of-type {\n",
       "        vertical-align: middle;\n",
       "    }\n",
       "\n",
       "    .dataframe tbody tr th {\n",
       "        vertical-align: top;\n",
       "    }\n",
       "\n",
       "    .dataframe thead th {\n",
       "        text-align: right;\n",
       "    }\n",
       "</style>\n",
       "<table border=\"1\" class=\"dataframe\">\n",
       "  <thead>\n",
       "    <tr style=\"text-align: right;\">\n",
       "      <th></th>\n",
       "      <th>Title</th>\n",
       "      <th>TEXT</th>\n",
       "      <th>Poet</th>\n",
       "      <th>Tags</th>\n",
       "    </tr>\n",
       "  </thead>\n",
       "  <tbody>\n",
       "    <tr>\n",
       "      <th>0</th>\n",
       "      <td>\\r\\n\\r\\n                    Objects Used to Pr...</td>\n",
       "      <td>\\r\\n\\r\\nDog bone, stapler,\\r\\n\\r\\ncribbage boa...</td>\n",
       "      <td>Michelle Menting</td>\n",
       "      <td>NaN</td>\n",
       "    </tr>\n",
       "    <tr>\n",
       "      <th>1</th>\n",
       "      <td>\\r\\n\\r\\n                    The New Church\\r\\n...</td>\n",
       "      <td>\\r\\n\\r\\nThe old cupola glinted above the cloud...</td>\n",
       "      <td>Lucia Cherciu</td>\n",
       "      <td>NaN</td>\n",
       "    </tr>\n",
       "    <tr>\n",
       "      <th>2</th>\n",
       "      <td>\\r\\n\\r\\n                    Look for Me\\r\\n\\r\\...</td>\n",
       "      <td>\\r\\n\\r\\nLook for me under the hood\\r\\n\\r\\nof t...</td>\n",
       "      <td>Ted Kooser</td>\n",
       "      <td>NaN</td>\n",
       "    </tr>\n",
       "    <tr>\n",
       "      <th>3</th>\n",
       "      <td>\\r\\n\\r\\n                    Wild Life\\r\\n\\r\\n ...</td>\n",
       "      <td>\\r\\n\\r\\nBehind the silo, the Mother Rabbit\\r\\n...</td>\n",
       "      <td>Grace Cavalieri</td>\n",
       "      <td>NaN</td>\n",
       "    </tr>\n",
       "    <tr>\n",
       "      <th>4</th>\n",
       "      <td>\\r\\n\\r\\n                    Umbrella\\r\\n\\r\\n  ...</td>\n",
       "      <td>\\r\\n\\r\\nWhen I push your button\\r\\n\\r\\nyou fly...</td>\n",
       "      <td>Connie Wanek</td>\n",
       "      <td>NaN</td>\n",
       "    </tr>\n",
       "    <tr>\n",
       "      <th>...</th>\n",
       "      <td>...</td>\n",
       "      <td>...</td>\n",
       "      <td>...</td>\n",
       "      <td>...</td>\n",
       "    </tr>\n",
       "    <tr>\n",
       "      <th>13</th>\n",
       "      <td>\\r\\n\\r\\n                    1-800-FEAR\\r\\n\\r\\n...</td>\n",
       "      <td>\\r\\n\\r\\nWe'd  like  to  talk  with  you  about...</td>\n",
       "      <td>Jody Gladding</td>\n",
       "      <td>Living,Social Commentaries,Popular Culture</td>\n",
       "    </tr>\n",
       "    <tr>\n",
       "      <th>14</th>\n",
       "      <td>\\r\\n\\r\\n                    The Death of Atahu...</td>\n",
       "      <td>\\r\\n\\r\\n\\r\\n\\r\\n</td>\n",
       "      <td>William Jay Smith</td>\n",
       "      <td>NaN</td>\n",
       "    </tr>\n",
       "    <tr>\n",
       "      <th>15</th>\n",
       "      <td>\\r\\n\\r\\n                    Poet's Wish\\r\\n\\r\\...</td>\n",
       "      <td>\\r\\n\\r\\n\\r\\n\\r\\n</td>\n",
       "      <td>William Jay Smith</td>\n",
       "      <td>NaN</td>\n",
       "    </tr>\n",
       "    <tr>\n",
       "      <th>0</th>\n",
       "      <td>\\r\\n\\r\\n                    0\\r\\n\\r\\n         ...</td>\n",
       "      <td>\\r\\n\\r\\n          Philosophic\\r\\n\\r\\nin its co...</td>\n",
       "      <td>Hailey Leithauser</td>\n",
       "      <td>Arts &amp; Sciences,Philosophy</td>\n",
       "    </tr>\n",
       "    <tr>\n",
       "      <th>1</th>\n",
       "      <td>\\r\\n\\r\\n                    !\\r\\n\\r\\n         ...</td>\n",
       "      <td>\\r\\n\\r\\nDear Writers, I’m compiling the first ...</td>\n",
       "      <td>Wendy Videlock</td>\n",
       "      <td>Relationships,Gay, Lesbian, Queer,Arts &amp; Scien...</td>\n",
       "    </tr>\n",
       "  </tbody>\n",
       "</table>\n",
       "<p>13854 rows × 4 columns</p>\n",
       "</div>"
      ],
      "text/plain": [
       "                                                Title  \\\n",
       "0   \\r\\n\\r\\n                    Objects Used to Pr...   \n",
       "1   \\r\\n\\r\\n                    The New Church\\r\\n...   \n",
       "2   \\r\\n\\r\\n                    Look for Me\\r\\n\\r\\...   \n",
       "3   \\r\\n\\r\\n                    Wild Life\\r\\n\\r\\n ...   \n",
       "4   \\r\\n\\r\\n                    Umbrella\\r\\n\\r\\n  ...   \n",
       "..                                                ...   \n",
       "13  \\r\\n\\r\\n                    1-800-FEAR\\r\\n\\r\\n...   \n",
       "14  \\r\\n\\r\\n                    The Death of Atahu...   \n",
       "15  \\r\\n\\r\\n                    Poet's Wish\\r\\n\\r\\...   \n",
       "0   \\r\\n\\r\\n                    0\\r\\n\\r\\n         ...   \n",
       "1   \\r\\n\\r\\n                    !\\r\\n\\r\\n         ...   \n",
       "\n",
       "                                                 TEXT               Poet  \\\n",
       "0   \\r\\n\\r\\nDog bone, stapler,\\r\\n\\r\\ncribbage boa...   Michelle Menting   \n",
       "1   \\r\\n\\r\\nThe old cupola glinted above the cloud...      Lucia Cherciu   \n",
       "2   \\r\\n\\r\\nLook for me under the hood\\r\\n\\r\\nof t...         Ted Kooser   \n",
       "3   \\r\\n\\r\\nBehind the silo, the Mother Rabbit\\r\\n...    Grace Cavalieri   \n",
       "4   \\r\\n\\r\\nWhen I push your button\\r\\n\\r\\nyou fly...       Connie Wanek   \n",
       "..                                                ...                ...   \n",
       "13  \\r\\n\\r\\nWe'd  like  to  talk  with  you  about...      Jody Gladding   \n",
       "14                                   \\r\\n\\r\\n\\r\\n\\r\\n  William Jay Smith   \n",
       "15                                   \\r\\n\\r\\n\\r\\n\\r\\n  William Jay Smith   \n",
       "0   \\r\\n\\r\\n          Philosophic\\r\\n\\r\\nin its co...  Hailey Leithauser   \n",
       "1   \\r\\n\\r\\nDear Writers, I’m compiling the first ...     Wendy Videlock   \n",
       "\n",
       "                                                 Tags  \n",
       "0                                                 NaN  \n",
       "1                                                 NaN  \n",
       "2                                                 NaN  \n",
       "3                                                 NaN  \n",
       "4                                                 NaN  \n",
       "..                                                ...  \n",
       "13         Living,Social Commentaries,Popular Culture  \n",
       "14                                                NaN  \n",
       "15                                                NaN  \n",
       "0                          Arts & Sciences,Philosophy  \n",
       "1   Relationships,Gay, Lesbian, Queer,Arts & Scien...  \n",
       "\n",
       "[13854 rows x 4 columns]"
      ]
     },
     "execution_count": 37,
     "metadata": {},
     "output_type": "execute_result"
    }
   ],
   "source": [
    "poetry_foundation_df"
   ]
  },
  {
   "cell_type": "code",
   "execution_count": 42,
   "metadata": {},
   "outputs": [
    {
     "ename": "ModuleNotFoundError",
     "evalue": "No module named 'regex'",
     "output_type": "error",
     "traceback": [
      "\u001b[0;31m---------------------------------------------------------------------------\u001b[0m",
      "\u001b[0;31mModuleNotFoundError\u001b[0m                       Traceback (most recent call last)",
      "Cell \u001b[0;32mIn[42], line 1\u001b[0m\n\u001b[0;32m----> 1\u001b[0m \u001b[38;5;28;01mimport\u001b[39;00m \u001b[38;5;21;01mregex\u001b[39;00m \u001b[38;5;28;01mas\u001b[39;00m \u001b[38;5;21;01mre\u001b[39;00m\n\u001b[1;32m      2\u001b[0m re\u001b[38;5;241m.\u001b[39msub(poetry_foundation_df[\u001b[38;5;124m'\u001b[39m\u001b[38;5;124mTEXT\u001b[39m\u001b[38;5;124m'\u001b[39m]\u001b[38;5;241m.\u001b[39miloc[\u001b[38;5;241m0\u001b[39m], \u001b[38;5;124m'\u001b[39m\u001b[38;5;124m(\u001b[39m\u001b[38;5;130;01m\\\\\u001b[39;00m\u001b[38;5;124m[nr])+\u001b[39m\u001b[38;5;124m'\u001b[39m, \u001b[38;5;124m'\u001b[39m\u001b[38;5;124m'\u001b[39m)\n",
      "\u001b[0;31mModuleNotFoundError\u001b[0m: No module named 'regex'"
     ]
    }
   ],
   "source": [
    "import regex as re\n",
    "re.sub(poetry_foundation_df['TEXT'].iloc[0], '(\\\\[nr])+', '')"
   ]
  },
  {
   "cell_type": "code",
   "execution_count": 39,
   "metadata": {},
   "outputs": [
    {
     "data": {
      "text/plain": [
       "'Who\\n\\n\\nIn the blue of the sky, in the green'"
      ]
     },
     "execution_count": 39,
     "metadata": {},
     "output_type": "execute_result"
    }
   ],
   "source": [
    "'Who\\n\\n\\nIn the blue of the sky, in the green'."
   ]
  }
 ],
 "metadata": {
  "kernelspec": {
   "display_name": "word2vec-training",
   "language": "python",
   "name": "python3"
  },
  "language_info": {
   "codemirror_mode": {
    "name": "ipython",
    "version": 3
   },
   "file_extension": ".py",
   "mimetype": "text/x-python",
   "name": "python",
   "nbconvert_exporter": "python",
   "pygments_lexer": "ipython3",
   "version": "3.9.13"
  }
 },
 "nbformat": 4,
 "nbformat_minor": 2
}
